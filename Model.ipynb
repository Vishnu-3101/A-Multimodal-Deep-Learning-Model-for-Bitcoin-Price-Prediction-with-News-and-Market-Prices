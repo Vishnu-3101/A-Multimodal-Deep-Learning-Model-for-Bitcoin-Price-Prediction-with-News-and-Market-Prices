{
 "cells": [
  {
   "cell_type": "code",
   "execution_count": null,
   "id": "13f0a934",
   "metadata": {
    "_cell_guid": "b1076dfc-b9ad-4769-8c92-a6c4dae69d19",
    "_uuid": "8f2839f25d086af736a60e9eeb907d3b93b6e0e5",
    "execution": {
     "iopub.execute_input": "2024-08-11T15:50:58.487928Z",
     "iopub.status.busy": "2024-08-11T15:50:58.487673Z",
     "iopub.status.idle": "2024-08-11T15:51:03.857185Z",
     "shell.execute_reply": "2024-08-11T15:51:03.856190Z"
    },
    "papermill": {
     "duration": 5.384307,
     "end_time": "2024-08-11T15:51:03.859691",
     "exception": false,
     "start_time": "2024-08-11T15:50:58.475384",
     "status": "completed"
    },
    "tags": []
   },
   "outputs": [],
   "source": [
    "import pandas as pd\n",
    "import numpy as np\n",
    "from tqdm import tqdm\n",
    "from sklearn.preprocessing import MinMaxScaler\n",
    "import ast\n",
    "import torch\n",
    "import torch.nn as nn\n",
    "import math\n",
    "scaler = MinMaxScaler()"
   ]
  },
  {
   "cell_type": "code",
   "execution_count": null,
   "id": "88264bc3",
   "metadata": {
    "execution": {
     "iopub.execute_input": "2024-08-11T15:51:03.883197Z",
     "iopub.status.busy": "2024-08-11T15:51:03.882773Z",
     "iopub.status.idle": "2024-08-11T15:51:04.003579Z",
     "shell.execute_reply": "2024-08-11T15:51:04.002690Z"
    },
    "papermill": {
     "duration": 0.134326,
     "end_time": "2024-08-11T15:51:04.005659",
     "exception": false,
     "start_time": "2024-08-11T15:51:03.871333",
     "status": "completed"
    },
    "tags": []
   },
   "outputs": [],
   "source": [
    "import torch\n",
    "import torch.nn as nn\n",
    "import torch.optim as optim\n",
    "from torch.utils.data import Dataset, DataLoader\n",
    "# from sklearn.metrics import mean_squared_error, r2_score\n",
    "from sklearn.metrics import mean_squared_error, mean_absolute_error, r2_score, mean_absolute_percentage_error\n",
    "import numpy as np\n",
    "import torch\n",
    "import matplotlib.pyplot as plt\n",
    "if torch.cuda.is_available():\n",
    "  device = torch.device(\"cuda\")\n",
    "else:\n",
    "    device = torch.device(\"cpu\")\n",
    "\n",
    "print(\"Training on device: \", device)"
   ]
  },
  {
   "cell_type": "code",
   "execution_count": null,
   "id": "537325b7",
   "metadata": {
    "execution": {
     "iopub.execute_input": "2024-08-11T15:51:04.027727Z",
     "iopub.status.busy": "2024-08-11T15:51:04.027434Z",
     "iopub.status.idle": "2024-08-11T15:51:04.033116Z",
     "shell.execute_reply": "2024-08-11T15:51:04.032280Z"
    },
    "papermill": {
     "duration": 0.018928,
     "end_time": "2024-08-11T15:51:04.035170",
     "exception": false,
     "start_time": "2024-08-11T15:51:04.016242",
     "status": "completed"
    },
    "tags": []
   },
   "outputs": [],
   "source": [
    "class CustomDataset(Dataset):\n",
    "    def __init__(self, text_emb, btc_data, target):\n",
    "        self.text_emb = text_emb\n",
    "        self.btc_data = btc_data\n",
    "        self.target = target\n",
    "        \n",
    "    def __len__(self):\n",
    "        return len(self.target)\n",
    "    \n",
    "    def __getitem__(self, idx):\n",
    "        return self.text_emb[idx], self.btc_data[idx], self.target[idx]"
   ]
  },
  {
   "cell_type": "code",
   "execution_count": null,
   "id": "d05ed032",
   "metadata": {
    "execution": {
     "iopub.execute_input": "2024-08-11T15:51:04.056869Z",
     "iopub.status.busy": "2024-08-11T15:51:04.056597Z",
     "iopub.status.idle": "2024-08-11T15:51:06.223596Z",
     "shell.execute_reply": "2024-08-11T15:51:06.222717Z"
    },
    "papermill": {
     "duration": 2.180095,
     "end_time": "2024-08-11T15:51:06.225654",
     "exception": false,
     "start_time": "2024-08-11T15:51:04.045559",
     "status": "completed"
    },
    "tags": []
   },
   "outputs": [],
   "source": [
    "btc_path = \"/kaggle/input/bitcoin-dataset-all/All_btc_final.csv\"\n",
    "txt_path = \"/kaggle/input/bitcoin-dataset-all/All_text_final.csv\"\n",
    "textdf = pd.read_csv(txt_path)\n",
    "btcdf = pd.read_csv(btc_path)\n",
    "textdf.head()\n",
    "btcdf.head()"
   ]
  },
  {
   "cell_type": "code",
   "execution_count": null,
   "id": "40036218",
   "metadata": {
    "execution": {
     "iopub.execute_input": "2024-08-11T15:51:06.249792Z",
     "iopub.status.busy": "2024-08-11T15:51:06.249476Z",
     "iopub.status.idle": "2024-08-11T15:51:06.264355Z",
     "shell.execute_reply": "2024-08-11T15:51:06.263484Z"
    },
    "papermill": {
     "duration": 0.02891,
     "end_time": "2024-08-11T15:51:06.266337",
     "exception": false,
     "start_time": "2024-08-11T15:51:06.237427",
     "status": "completed"
    },
    "tags": []
   },
   "outputs": [],
   "source": [
    "textdf[textdf['ada_embedding'].isnull()]"
   ]
  },
  {
   "cell_type": "code",
   "execution_count": null,
   "id": "7e078d48",
   "metadata": {
    "execution": {
     "iopub.execute_input": "2024-08-11T15:51:06.289385Z",
     "iopub.status.busy": "2024-08-11T15:51:06.289081Z",
     "iopub.status.idle": "2024-08-11T15:51:06.308304Z",
     "shell.execute_reply": "2024-08-11T15:51:06.307422Z"
    },
    "papermill": {
     "duration": 0.032879,
     "end_time": "2024-08-11T15:51:06.310071",
     "exception": false,
     "start_time": "2024-08-11T15:51:06.277192",
     "status": "completed"
    },
    "tags": []
   },
   "outputs": [],
   "source": [
    "import sys\n",
    "class Dataset:\n",
    "    def __init__(self,text_path,btc_path,window_size = 5):\n",
    "        self.textdf = pd.read_csv(text_path).iloc[:2500]\n",
    "        columns = ['open','high','low','close','volume']\n",
    "        self.btcdf1 = pd.read_csv(btc_path).iloc[:2500]\n",
    "        self.btcdf = self.btcdf1[columns]\n",
    "        self.window = window_size\n",
    "        self.ind = 0\n",
    "        \n",
    "    def get_n_day_data_text(self,data):\n",
    "        n = self.window\n",
    "        return np.array([data[i:i+n].to_list() for i in range(len(data)-n)])\n",
    "    \n",
    "    def get_n_day_data_btc(self,data):\n",
    "        n = self.window\n",
    "        return np.array([data[i:i+n] for i in range(len(data)-n)])\n",
    "    \n",
    "    def text_preprocess(self,data):\n",
    "        def convert_to_float(value):\n",
    "            # Try to evaluate the string as a list and return the result\n",
    "            return np.array(ast.literal_eval(value), dtype=np.float32)\n",
    "        data = data['ada_embedding'].map(convert_to_float)\n",
    "        return self.get_n_day_data_text(data)\n",
    "    \n",
    "    def btc_preprocess(self,data):\n",
    "        return self.get_n_day_data_btc(data)\n",
    "    \n",
    "    def prepare_dataloader(self,batch_size=32,val_size=0.2,test_size=0.2):\n",
    "        window_size = self.window\n",
    "        n = len(self.textdf)\n",
    "        train_size = n - int(n*val_size) - int(n*test_size)\n",
    "        val_size = train_size+int(n*val_size)\n",
    "        \n",
    "        self.scaler1 = MinMaxScaler()\n",
    "        self.scaler2 = MinMaxScaler()\n",
    "        \n",
    "        train_text = torch.FloatTensor(self.text_preprocess(self.textdf[:train_size+window_size])).to(device)\n",
    "        val_text = torch.FloatTensor(self.text_preprocess(self.textdf[train_size+window_size:val_size+window_size])).to(device)\n",
    "        test_text = torch.FloatTensor(self.text_preprocess(self.textdf[val_size+window_size:])).to(device)\n",
    "\n",
    "        train_btc = torch.FloatTensor(self.btc_preprocess(self.scaler1.fit_transform(self.btcdf[:train_size+window_size]))).to(device)\n",
    "        val_btc = torch.FloatTensor(self.btc_preprocess(self.scaler1.transform(self.btcdf[train_size+window_size:val_size+window_size]))).to(device)\n",
    "        test_btc = torch.FloatTensor(self.btc_preprocess(self.scaler1.transform(self.btcdf[val_size+window_size:]))).to(device)\n",
    "        \n",
    "        target_train = torch.FloatTensor(self.scaler2.fit_transform(np.array(self.btcdf['close'][window_size:window_size+train_size].to_list()).reshape(-1,1))).to(device)\n",
    "        target_val = torch.FloatTensor(self.scaler2.transform(np.array(self.btcdf['close'][(2*window_size)+train_size:window_size+val_size].to_list()).reshape(-1,1))).to(device)\n",
    "        target_test = torch.FloatTensor(self.scaler2.transform(np.array(self.btcdf['close'][(2*window_size)+val_size:].to_list()).reshape(-1,1))).to(device)\n",
    "        \n",
    "        self.train_date = self.btcdf1['time'][window_size:window_size+train_size]       \n",
    "        self.val_date = self.btcdf1['time'][(2*window_size)+train_size:window_size+val_size]\n",
    "        self.test_date = self.btcdf1['time'][(2*window_size)+val_size:]\n",
    "        \n",
    "        train_dataset = CustomDataset(train_text, train_btc, target_train)\n",
    "        val_dataset = CustomDataset(val_text, val_btc, target_val)\n",
    "        test_dataset = CustomDataset(test_text, test_btc, target_test)\n",
    "        \n",
    "        train_dataloader = DataLoader(train_dataset, batch_size=batch_size, shuffle=False)\n",
    "        val_dataloader = DataLoader(val_dataset, batch_size=batch_size, shuffle=False)\n",
    "        test_dataloader = DataLoader(test_dataset, batch_size=batch_size, shuffle=False)\n",
    "        \n",
    "        return train_dataloader,val_dataloader, test_dataloader"
   ]
  },
  {
   "cell_type": "code",
   "execution_count": null,
   "id": "f8d74f83",
   "metadata": {
    "execution": {
     "iopub.execute_input": "2024-08-11T15:51:06.332847Z",
     "iopub.status.busy": "2024-08-11T15:51:06.332580Z",
     "iopub.status.idle": "2024-08-11T15:51:25.129706Z",
     "shell.execute_reply": "2024-08-11T15:51:25.128903Z"
    },
    "papermill": {
     "duration": 18.811058,
     "end_time": "2024-08-11T15:51:25.132208",
     "exception": false,
     "start_time": "2024-08-11T15:51:06.321150",
     "status": "completed"
    },
    "tags": []
   },
   "outputs": [],
   "source": [
    "btc_path = \"/kaggle/input/bitcoin-dataset-all/All_btc_final.csv\"\n",
    "txt_path = \"/kaggle/input/bitcoin-dataset-all/All_text_final.csv\"\n",
    "window_size = 6\n",
    "df = Dataset(txt_path,btc_path,window_size)\n",
    "train_dataloader,val_dataloader,test_dataloader = df.prepare_dataloader()"
   ]
  },
  {
   "cell_type": "code",
   "execution_count": null,
   "id": "b7cd2d35",
   "metadata": {
    "execution": {
     "iopub.execute_input": "2024-08-11T15:51:25.155517Z",
     "iopub.status.busy": "2024-08-11T15:51:25.154858Z",
     "iopub.status.idle": "2024-08-11T15:51:25.159133Z",
     "shell.execute_reply": "2024-08-11T15:51:25.158266Z"
    },
    "papermill": {
     "duration": 0.017703,
     "end_time": "2024-08-11T15:51:25.161098",
     "exception": false,
     "start_time": "2024-08-11T15:51:25.143395",
     "status": "completed"
    },
    "tags": []
   },
   "outputs": [],
   "source": [
    "train_date = df.train_date\n",
    "val_date = df.val_date\n",
    "test_date = df.test_date"
   ]
  },
  {
   "cell_type": "code",
   "execution_count": null,
   "id": "4a211979",
   "metadata": {
    "execution": {
     "iopub.execute_input": "2024-08-11T15:51:25.183465Z",
     "iopub.status.busy": "2024-08-11T15:51:25.183175Z",
     "iopub.status.idle": "2024-08-11T15:51:25.224103Z",
     "shell.execute_reply": "2024-08-11T15:51:25.223077Z"
    },
    "papermill": {
     "duration": 0.054258,
     "end_time": "2024-08-11T15:51:25.226043",
     "exception": false,
     "start_time": "2024-08-11T15:51:25.171785",
     "status": "completed"
    },
    "tags": []
   },
   "outputs": [],
   "source": [
    "for text_emb_batch, btc_data_batch, target_batch in test_dataloader:\n",
    "    print(text_emb_batch.shape, btc_data_batch.shape, target_batch.shape)    \n",
    "    # printing the dataset from train dataloader\n",
    "#     print(text_emb_batch[0], btc_data_batch[0], target_batch[0])\n",
    "    break"
   ]
  },
  {
   "cell_type": "code",
   "execution_count": null,
   "id": "664b1eb4",
   "metadata": {
    "execution": {
     "iopub.execute_input": "2024-08-11T15:51:25.248372Z",
     "iopub.status.busy": "2024-08-11T15:51:25.248099Z",
     "iopub.status.idle": "2024-08-11T15:51:25.253875Z",
     "shell.execute_reply": "2024-08-11T15:51:25.253075Z"
    },
    "papermill": {
     "duration": 0.019067,
     "end_time": "2024-08-11T15:51:25.255770",
     "exception": false,
     "start_time": "2024-08-11T15:51:25.236703",
     "status": "completed"
    },
    "tags": []
   },
   "outputs": [],
   "source": [
    "def train(model, dataloader, criterion, optimizer):\n",
    "    model.train()\n",
    "    total_loss = 0.0\n",
    "    predictions = []\n",
    "    for text_emb, btc_data, target in dataloader:\n",
    "        optimizer.zero_grad()\n",
    "        \n",
    "        output = model(text_emb, btc_data)\n",
    "        predictions.extend(output.cpu().detach().numpy())\n",
    "        loss = criterion(output, target)\n",
    "        \n",
    "        loss.backward()\n",
    "        optimizer.step()\n",
    "        \n",
    "        total_loss += loss.item()\n",
    "        \n",
    "    return total_loss / len(dataloader), np.array(predictions)"
   ]
  },
  {
   "cell_type": "code",
   "execution_count": null,
   "id": "25652294",
   "metadata": {
    "execution": {
     "iopub.execute_input": "2024-08-11T15:51:25.278461Z",
     "iopub.status.busy": "2024-08-11T15:51:25.277662Z",
     "iopub.status.idle": "2024-08-11T15:51:25.283484Z",
     "shell.execute_reply": "2024-08-11T15:51:25.282639Z"
    },
    "papermill": {
     "duration": 0.019033,
     "end_time": "2024-08-11T15:51:25.285422",
     "exception": false,
     "start_time": "2024-08-11T15:51:25.266389",
     "status": "completed"
    },
    "tags": []
   },
   "outputs": [],
   "source": [
    "def evaluate(model, dataloader, criterion):\n",
    "    model.eval()\n",
    "    total_loss = 0.0\n",
    "    predictions = []\n",
    "    with torch.no_grad():\n",
    "        for text_emb, btc_data, target in dataloader:\n",
    "            output = model(text_emb, btc_data)\n",
    "            predictions.extend(output.cpu().detach().numpy())\n",
    "            loss = criterion(output, target)\n",
    "            total_loss += loss.item()\n",
    "    predictions = np.array(predictions)\n",
    "    return total_loss / len(dataloader) , predictions"
   ]
  },
  {
   "cell_type": "code",
   "execution_count": null,
   "id": "3271513d",
   "metadata": {
    "execution": {
     "iopub.execute_input": "2024-08-11T15:51:25.307775Z",
     "iopub.status.busy": "2024-08-11T15:51:25.307521Z",
     "iopub.status.idle": "2024-08-11T15:51:25.314691Z",
     "shell.execute_reply": "2024-08-11T15:51:25.313868Z"
    },
    "papermill": {
     "duration": 0.020446,
     "end_time": "2024-08-11T15:51:25.316515",
     "exception": false,
     "start_time": "2024-08-11T15:51:25.296069",
     "status": "completed"
    },
    "tags": []
   },
   "outputs": [],
   "source": [
    "def test(model, dataloader,criterion):\n",
    "    model.eval()\n",
    "    predictions = []\n",
    "    targets = []\n",
    "    \n",
    "    with torch.no_grad():\n",
    "        for text_emb, btc_data, target in dataloader:\n",
    "            output = model(text_emb.to(device), btc_data.to(device))\n",
    "            \n",
    "            predictions.extend(output.cpu().numpy())\n",
    "            targets.extend(target.cpu().numpy())\n",
    "            loss = criterion(output, target)\n",
    "            \n",
    "    predictions = np.array(predictions)\n",
    "    targets = np.array(targets)\n",
    "#     print(predictions.shape)\n",
    "#     print(targets.shape)\n",
    "    mse = mean_squared_error(targets, predictions)\n",
    "    r2 = r2_score(targets, predictions)\n",
    "    rmse = np.sqrt(mse)\n",
    "    mae = mean_absolute_error(targets, predictions)\n",
    "    mape = mean_absolute_percentage_error(targets, predictions)\n",
    "    \n",
    "    return mse, r2, rmse, mae, mape, predictions"
   ]
  },
  {
   "cell_type": "code",
   "execution_count": null,
   "id": "ba189608",
   "metadata": {
    "execution": {
     "iopub.execute_input": "2024-08-11T15:51:25.338796Z",
     "iopub.status.busy": "2024-08-11T15:51:25.338537Z",
     "iopub.status.idle": "2024-08-11T15:51:25.346071Z",
     "shell.execute_reply": "2024-08-11T15:51:25.345255Z"
    },
    "papermill": {
     "duration": 0.020839,
     "end_time": "2024-08-11T15:51:25.348068",
     "exception": false,
     "start_time": "2024-08-11T15:51:25.327229",
     "status": "completed"
    },
    "tags": []
   },
   "outputs": [],
   "source": [
    "class PositionalEncoding(nn.Module):\n",
    "    def __init__(self, d_model, max_len=5000):\n",
    "        super(PositionalEncoding, self).__init__()\n",
    "        self.d_model = d_model\n",
    "        \n",
    "        # Create a matrix of shape (max_len, d_model)\n",
    "        pe = torch.zeros(max_len, d_model)\n",
    "        \n",
    "        # Get position indices (shape: [max_len, 1])\n",
    "        position = torch.arange(0, max_len, dtype=torch.float).unsqueeze(1)\n",
    "        \n",
    "        # Compute the div_term (shape: [d_model // 2])\n",
    "        div_term = torch.exp(torch.arange(0, d_model, 2).float() * (-math.log(10000.0) / d_model))\n",
    "        \n",
    "        # Compute the positional encodings (shape: [max_len, d_model])\n",
    "        pe[:, 0::2] = torch.sin(position * div_term)\n",
    "        pe[:, 1::2] = torch.cos(position * div_term)\n",
    "        \n",
    "        # Add a batch dimension (shape: [1, max_len, d_model])\n",
    "        pe = pe.unsqueeze(0)\n",
    "        \n",
    "        # Register the positional encoding as a buffer in the model\n",
    "        self.register_buffer('pe', pe)\n",
    "\n",
    "    def forward(self, x):\n",
    "        # Add positional encoding to the input tensor\n",
    "        x = x + self.pe[:, :x.size(1), :].to(x.device)\n",
    "        return x"
   ]
  },
  {
   "cell_type": "code",
   "execution_count": null,
   "id": "af0ebc64",
   "metadata": {
    "execution": {
     "iopub.execute_input": "2024-08-11T15:51:25.370892Z",
     "iopub.status.busy": "2024-08-11T15:51:25.370572Z",
     "iopub.status.idle": "2024-08-11T15:51:25.381001Z",
     "shell.execute_reply": "2024-08-11T15:51:25.380349Z"
    },
    "papermill": {
     "duration": 0.023979,
     "end_time": "2024-08-11T15:51:25.382869",
     "exception": false,
     "start_time": "2024-08-11T15:51:25.358890",
     "status": "completed"
    },
    "tags": []
   },
   "outputs": [],
   "source": [
    "import torch\n",
    "import torch.nn as nn\n",
    "import torch.nn.functional as F\n",
    "\n",
    "class PositionalEncodingCNN(nn.Module):\n",
    "    def __init__(self, d_model, max_len=5000, kernel_size=3):\n",
    "        super(PositionalEncodingCNN, self).__init__()\n",
    "        self.d_model = d_model\n",
    "        self.max_len = max_len\n",
    "        \n",
    "        # Define a simple CNN for generating positional encodings\n",
    "        self.conv1 = nn.Conv1d(in_channels=1, out_channels=d_model, kernel_size=kernel_size, padding=kernel_size // 2)\n",
    "        self.conv2 = nn.Conv1d(in_channels=d_model, out_channels=d_model, kernel_size=kernel_size, padding=kernel_size // 2)\n",
    "        self.conv3 = nn.Conv1d(in_channels=d_model, out_channels=d_model, kernel_size=kernel_size, padding=kernel_size // 2)\n",
    "        \n",
    "        # Create a learnable positional encoding matrix\n",
    "        self.position_indices = nn.Parameter(torch.arange(0, max_len, dtype=torch.float).unsqueeze(0), requires_grad=False)\n",
    "\n",
    "    def forward(self, x):\n",
    "        batch_size, seq_len, _ = x.size()\n",
    "        # Generate positional encodings using CNN\n",
    "        position_indices = self.position_indices[:, :seq_len].unsqueeze(1)  # Shape: [1, 1, seq_len]\n",
    "        position_indices = position_indices.repeat(batch_size,1,1)\n",
    "        # Pass position indices through the CNN\n",
    "        pos_enc = self.conv1(position_indices)\n",
    "        pos_enc = F.relu(pos_enc)\n",
    "        pos_enc = self.conv2(pos_enc)\n",
    "        pos_enc = F.relu(pos_enc)\n",
    "        pos_enc = self.conv3(pos_enc)\n",
    "        \n",
    "        # Reshape and repeat for the batch size\n",
    "        pos_enc = pos_enc.permute(0, 2, 1)  # Shape: [1, seq_len, d_model]\n",
    "        \n",
    "        # Add positional encoding to the input tensor\n",
    "        x = x + pos_enc.to(x.device)\n",
    "        return x"
   ]
  },
  {
   "cell_type": "code",
   "execution_count": null,
   "id": "4d442c08",
   "metadata": {
    "execution": {
     "iopub.execute_input": "2024-08-11T15:51:25.405089Z",
     "iopub.status.busy": "2024-08-11T15:51:25.404816Z",
     "iopub.status.idle": "2024-08-11T15:51:25.411375Z",
     "shell.execute_reply": "2024-08-11T15:51:25.410601Z"
    },
    "papermill": {
     "duration": 0.019662,
     "end_time": "2024-08-11T15:51:25.413226",
     "exception": false,
     "start_time": "2024-08-11T15:51:25.393564",
     "status": "completed"
    },
    "tags": []
   },
   "outputs": [],
   "source": [
    "class BTCEncoder(nn.Module):\n",
    "    def __init__(self, d_model, nhead, dim_feedforward):\n",
    "        super(BTCEncoder, self).__init__()\n",
    "        self.transformer_encoder_layer = nn.TransformerEncoderLayer(d_model, nhead, dim_feedforward,batch_first = True)\n",
    "        self.transformer_encoder = nn.TransformerEncoder(self.transformer_encoder_layer,2)\n",
    "#         kernel_size=3\n",
    "#         self.conv1 = nn.Conv1d(in_channels=d_model, out_channels=int(d_model/3), kernel_size=kernel_size, padding=kernel_size // 2)\n",
    "#         self.batch_norm1 = nn.BatchNorm1d(int(d_model/3))\n",
    "#         self.conv2 = nn.Conv1d(in_channels=int(d_model/3), out_channels=int(d_model/2), kernel_size=kernel_size, padding=kernel_size // 2)\n",
    "#         self.batch_norm2 = nn.BatchNorm1d(int(d_model/2))\n",
    "#         self.conv3 = nn.Conv1d(in_channels=int(d_model/2), out_channels=d_model, kernel_size=kernel_size, padding=kernel_size // 2)\n",
    "        self.batch_norm3 = nn.BatchNorm1d(d_model)\n",
    "        \n",
    "    def forward(self, btc_data,src_mask = None):\n",
    "        # text_emb: [batch_size, seq_len, d_model]\n",
    "        # btc_data: [batch_size, seq_len, 5]\n",
    "#         queries = text_emb.transpose(1,2)\n",
    "        values = btc_data\n",
    "# #         print(values.shape)\n",
    "#         out = self.batch_norm1(self.conv1(values))\n",
    "#         out = self.batch_norm2(self.conv2(out))\n",
    "#         out = self.batch_norm3(self.conv3(out))\n",
    "\n",
    "        # Compute transformer output\n",
    "#         out = self.fc(btc_data)\n",
    "        out = self.batch_norm3(self.transformer_encoder(values).transpose(1,2)).transpose(1,2)\n",
    "        \n",
    "        return out"
   ]
  },
  {
   "cell_type": "code",
   "execution_count": null,
   "id": "e9ca96a5",
   "metadata": {
    "execution": {
     "iopub.execute_input": "2024-08-11T15:51:25.435386Z",
     "iopub.status.busy": "2024-08-11T15:51:25.435134Z",
     "iopub.status.idle": "2024-08-11T15:51:25.441632Z",
     "shell.execute_reply": "2024-08-11T15:51:25.440828Z"
    },
    "papermill": {
     "duration": 0.019603,
     "end_time": "2024-08-11T15:51:25.443432",
     "exception": false,
     "start_time": "2024-08-11T15:51:25.423829",
     "status": "completed"
    },
    "tags": []
   },
   "outputs": [],
   "source": [
    "class TextEncoder(nn.Module):\n",
    "    def __init__(self, d_model, nhead, dim_feedforward):\n",
    "        super(TextEncoder, self).__init__()\n",
    "        self.transformer_encoder_layer = nn.TransformerEncoderLayer(d_model, nhead, dim_feedforward,batch_first = True)\n",
    "        self.transformer_encoder = nn.TransformerEncoder(self.transformer_encoder_layer,4)\\\n",
    "#         kernel_size=3\n",
    "#         self.conv1 = nn.Conv1d(in_channels=d_model, out_channels=int(d_model/3), kernel_size=kernel_size, padding=kernel_size // 2)\n",
    "#         self.batch_norm1 = nn.BatchNorm1d(int(d_model/3))\n",
    "#         self.conv2 = nn.Conv1d(in_channels=int(d_model/3), out_channels=int(d_model/2), kernel_size=kernel_size, padding=kernel_size // 2)\n",
    "#         self.batch_norm2 = nn.BatchNorm1d(int(d_model/2))\n",
    "#         self.conv3 = nn.Conv1d(in_channels=int(d_model/2), out_channels=d_model, kernel_size=kernel_size, padding=kernel_size // 2)\n",
    "        self.batch_norm3 = nn.BatchNorm1d(d_model)\n",
    "        \n",
    "    def forward(self, text_emb,src_mask = None):\n",
    "        # text_emb: [batch_size, seq_len, d_model]\n",
    "        # btc_data: [batch_size, seq_len, 5]\n",
    "        \n",
    "        queries = text_emb\n",
    "#         values = btc_data.transpose(1,2)\n",
    "#         out = self.batch_norm1(self.conv1(queries))\n",
    "#         out = self.batch_norm2(self.conv2(out))\n",
    "#         out = self.batch_norm3(self.conv3(out))\n",
    "        # Compute transformer output\n",
    "\n",
    "        out = self.batch_norm3(self.transformer_encoder(queries).transpose(1,2)).transpose(1,2)\n",
    "        return out"
   ]
  },
  {
   "cell_type": "code",
   "execution_count": null,
   "id": "eba99d51",
   "metadata": {
    "execution": {
     "iopub.execute_input": "2024-08-11T15:51:25.465777Z",
     "iopub.status.busy": "2024-08-11T15:51:25.465533Z",
     "iopub.status.idle": "2024-08-11T15:51:25.475463Z",
     "shell.execute_reply": "2024-08-11T15:51:25.474747Z"
    },
    "papermill": {
     "duration": 0.02316,
     "end_time": "2024-08-11T15:51:25.477275",
     "exception": false,
     "start_time": "2024-08-11T15:51:25.454115",
     "status": "completed"
    },
    "tags": []
   },
   "outputs": [],
   "source": [
    "class TransformerLayer(nn.Module):\n",
    "    def __init__(self, text_dmodel,btc_dmodel, text_heads,btc_heads,dim_feedforward,window_size):\n",
    "        super(TransformerLayer, self).__init__()\n",
    "        self.text_posEncoder = PositionalEncodingCNN(d_model=text_dmodel, max_len=window_size)\n",
    "        self.btc_posEncoder = PositionalEncodingCNN(d_model=btc_dmodel, max_len=window_size)\n",
    "        self.TextEncoder = TextEncoder(text_dmodel, text_heads, dim_feedforward)\n",
    "        self.BTCEncoder = BTCEncoder(btc_dmodel, btc_heads, dim_feedforward)\n",
    "        self.posEncoder = PositionalEncodingCNN(d_model=text_dmodel+btc_dmodel, max_len=window_size)\n",
    "        self.transformer_encoder_layer = nn.TransformerEncoderLayer(text_dmodel+btc_dmodel, 1, dim_feedforward,batch_first = True)\n",
    "        self.transformer_encoder = nn.TransformerEncoder(self.transformer_encoder_layer,2)\n",
    "        self.batch_norm1 = nn.BatchNorm1d(btc_dmodel+text_dmodel)\n",
    "        self.flatten = nn.Flatten()\n",
    "        self.linear1 = nn.Linear((text_dmodel+btc_dmodel)*window_size,512)\n",
    "        self.relu = nn.ReLU()\n",
    "        self.linear2 = nn.Linear(512,1)\n",
    "        \n",
    "    def forward(self, text_emb, btc_data,src_mask = None):\n",
    "        # text_emb: [batch_size, seq_len, d_model]\n",
    "        # btc_data: [batch_size, seq_len, 5]\n",
    "        text_emb = self.text_posEncoder(text_emb)\n",
    "        btc_data = self.btc_posEncoder(btc_data)\n",
    "#         plot_encoding(btc_data.cpu().detach().numpy()[0])\n",
    "        text_out = self.TextEncoder(text_emb)\n",
    "        btc_out = self.BTCEncoder(btc_data)\n",
    "#         print(text_out.shape,btc_out.shape)\n",
    "        queries = torch.cat((text_out, btc_out), dim=-1)\n",
    "#         queries = self.posEncoder(torch.cat((text_out, btc_out), dim=-1))\n",
    "        # Compute transformer output\n",
    "\n",
    "        out = self.batch_norm1(self.transformer_encoder(queries).transpose(1,2)).transpose(1,2)\n",
    "#         print(\"btc_data: \",btc_data.shape)\n",
    "#         \n",
    "        out = self.flatten(out)\n",
    "        out = self.linear1(out)\n",
    "        out = self.relu(out)\n",
    "        \n",
    "        out = self.linear2(out)\n",
    "#         print(out.shape)\n",
    "        return out"
   ]
  },
  {
   "cell_type": "code",
   "execution_count": null,
   "id": "e90d613e",
   "metadata": {
    "execution": {
     "iopub.execute_input": "2024-08-11T15:51:25.499407Z",
     "iopub.status.busy": "2024-08-11T15:51:25.499149Z",
     "iopub.status.idle": "2024-08-11T15:51:25.505641Z",
     "shell.execute_reply": "2024-08-11T15:51:25.504954Z"
    },
    "papermill": {
     "duration": 0.019644,
     "end_time": "2024-08-11T15:51:25.507443",
     "exception": false,
     "start_time": "2024-08-11T15:51:25.487799",
     "status": "completed"
    },
    "tags": []
   },
   "outputs": [],
   "source": [
    "import matplotlib.pyplot as plt\n",
    "import matplotlib.dates as mdates\n",
    "def plot_data(date,true,prediction):\n",
    "#     plt.figure(figsize=(14, 7))\n",
    "    plt.plot(date,true, label='True')\n",
    "    plt.plot(date,prediction, label='Predicted')\n",
    "\n",
    "    # Add labels and legend\n",
    "    plt.xlabel('Date')\n",
    "    plt.ylabel('Price($)')\n",
    "    plt.title('True vs Predicted Bitcoin Prices')\n",
    "    plt.legend()\n",
    "    tick_positions = date[::30]\n",
    "    plt.xticks(tick_positions,rotation=45)\n",
    "    \n",
    "#     plt.xticks(tick_positions)\n",
    "    plt.gcf().autofmt_xdate()\n",
    "    # Show plot\n",
    "    plt.show()"
   ]
  },
  {
   "cell_type": "code",
   "execution_count": null,
   "id": "ea1bfda2",
   "metadata": {
    "execution": {
     "iopub.execute_input": "2024-08-11T15:51:25.529503Z",
     "iopub.status.busy": "2024-08-11T15:51:25.529263Z",
     "iopub.status.idle": "2024-08-11T15:51:28.573592Z",
     "shell.execute_reply": "2024-08-11T15:51:28.572810Z"
    },
    "papermill": {
     "duration": 3.057717,
     "end_time": "2024-08-11T15:51:28.575798",
     "exception": false,
     "start_time": "2024-08-11T15:51:25.518081",
     "status": "completed"
    },
    "tags": []
   },
   "outputs": [],
   "source": [
    "text_dmodel = 1536  # Dimension of text embeddings\n",
    "btc_dmodel = 5\n",
    "text_heads = 32\n",
    "btc_heads = 5\n",
    "# if d_model%2==0:\n",
    "#     nhead = n/2\n",
    "# else:\n",
    "#     nhead = 1  # Number of heads in Transformer\n",
    "dim_feedforward = 100  # Dimension of feedforward layer in Transformer\n",
    "lr = 0.0001  # Learning rate\n",
    "weight_decay = 0.0001\n",
    "batch_size = 32  # Batch size\n",
    "epochs = 100 # Number of epochs\n",
    "\n",
    "# Create model, criterion, optimizer\n",
    "model = TransformerLayer(text_dmodel,btc_dmodel, text_heads,btc_heads, dim_feedforward,window_size).to(device)\n",
    "criterion = nn.MSELoss().to(device)\n",
    "optimizer = optim.Adam(model.parameters(), lr=lr,weight_decay = weight_decay)"
   ]
  },
  {
   "cell_type": "code",
   "execution_count": null,
   "id": "d610bd33",
   "metadata": {
    "execution": {
     "iopub.execute_input": "2024-08-11T15:51:28.598987Z",
     "iopub.status.busy": "2024-08-11T15:51:28.598607Z",
     "iopub.status.idle": "2024-08-11T15:51:28.603893Z",
     "shell.execute_reply": "2024-08-11T15:51:28.603055Z"
    },
    "papermill": {
     "duration": 0.018882,
     "end_time": "2024-08-11T15:51:28.605800",
     "exception": false,
     "start_time": "2024-08-11T15:51:28.586918",
     "status": "completed"
    },
    "tags": []
   },
   "outputs": [],
   "source": [
    "def plot_encoding(encodings,title=\"sinusoidal Positional Encoding\"):\n",
    "    plt.figure(figsize=(5, 5))\n",
    "    plt.title(title)\n",
    "    plt.pcolormesh(encodings, cmap='viridis')\n",
    "    plt.xlabel('Embedding Dimension')\n",
    "    plt.ylabel('Sequence Position')\n",
    "    plt.tight_layout()\n",
    "    plt.show()"
   ]
  },
  {
   "cell_type": "code",
   "execution_count": null,
   "id": "887a1f5f",
   "metadata": {
    "execution": {
     "iopub.execute_input": "2024-08-11T15:51:28.628360Z",
     "iopub.status.busy": "2024-08-11T15:51:28.627872Z",
     "iopub.status.idle": "2024-08-11T15:57:24.219221Z",
     "shell.execute_reply": "2024-08-11T15:57:24.218244Z"
    },
    "papermill": {
     "duration": 355.604948,
     "end_time": "2024-08-11T15:57:24.221400",
     "exception": false,
     "start_time": "2024-08-11T15:51:28.616452",
     "status": "completed"
    },
    "tags": []
   },
   "outputs": [],
   "source": [
    "for epoch in range(epochs):\n",
    "    train_loss, pred2 = train(model, train_dataloader, criterion, optimizer)\n",
    "    val_loss,pred = evaluate(model, val_dataloader, criterion)\n",
    "    t_val = []\n",
    "    for i,j,k in val_dataloader:\n",
    "        for l in k.view(-1):\n",
    "            t_val.append(l.cpu())\n",
    "    true = df.scaler2.inverse_transform([np.array(t_val)]).reshape(-1,1)\n",
    "    prediction = df.scaler2.inverse_transform(pred)\n",
    "    plot_data(val_date,true,prediction)\n",
    "    print(f\"Epoch {epoch + 1}/{epochs}, Train Loss: {train_loss:.4f}, Train Loss: {val_loss:.4f}\")\n",
    "    \n",
    "    mse, r2, rmse, mae, mape, _ = test(model, val_dataloader)\n",
    "    print(f\"MSE: {mse:.4f}, R2: {r2:.4f}, RMSE: {rmse:.4f}, MAE: {mae:.4f}, MAPE: {mape:.4f}\")"
   ]
  },
  {
   "cell_type": "code",
   "execution_count": null,
   "id": "8d5189a3",
   "metadata": {
    "execution": {
     "iopub.execute_input": "2024-08-11T15:57:24.510039Z",
     "iopub.status.busy": "2024-08-11T15:57:24.508885Z",
     "iopub.status.idle": "2024-08-11T15:57:24.520943Z",
     "shell.execute_reply": "2024-08-11T15:57:24.520228Z"
    },
    "papermill": {
     "duration": 0.134781,
     "end_time": "2024-08-11T15:57:24.522948",
     "exception": false,
     "start_time": "2024-08-11T15:57:24.388167",
     "status": "completed"
    },
    "tags": []
   },
   "outputs": [],
   "source": [
    "for i,j,k in val_dataloader:\n",
    "    pass"
   ]
  },
  {
   "cell_type": "code",
   "execution_count": null,
   "id": "380446fd",
   "metadata": {
    "execution": {
     "iopub.execute_input": "2024-08-11T15:57:24.764188Z",
     "iopub.status.busy": "2024-08-11T15:57:24.763790Z",
     "iopub.status.idle": "2024-08-11T15:57:24.917962Z",
     "shell.execute_reply": "2024-08-11T15:57:24.916980Z"
    },
    "papermill": {
     "duration": 0.276644,
     "end_time": "2024-08-11T15:57:24.919982",
     "exception": false,
     "start_time": "2024-08-11T15:57:24.643338",
     "status": "completed"
    },
    "tags": []
   },
   "outputs": [],
   "source": [
    "mse, r2, rmse, mae, mape, pred = test(model, val_dataloader)\n",
    "print(f\"MSE: {mse:.4f}, R2: {r2:.4f}, RMSE: {rmse:.4f}, MAE: {mae:.4f}, MAPE: {mape:.4f}\")"
   ]
  },
  {
   "cell_type": "code",
   "execution_count": null,
   "id": "85f68b9d",
   "metadata": {
    "execution": {
     "iopub.execute_input": "2024-08-11T15:57:25.165634Z",
     "iopub.status.busy": "2024-08-11T15:57:25.165242Z",
     "iopub.status.idle": "2024-08-11T15:57:25.320952Z",
     "shell.execute_reply": "2024-08-11T15:57:25.319905Z"
    },
    "papermill": {
     "duration": 0.28012,
     "end_time": "2024-08-11T15:57:25.322993",
     "exception": false,
     "start_time": "2024-08-11T15:57:25.042873",
     "status": "completed"
    },
    "tags": []
   },
   "outputs": [],
   "source": [
    "mse, r2, rmse, mae, mape, pred2 = test(model, test_dataloader)\n",
    "print(f\"MSE: {mse:.4f}, R2: {r2:.4f}, RMSE: {rmse:.4f}, MAE: {mae:.4f}, MAPE: {mape:.4f}\")"
   ]
  },
  {
   "cell_type": "code",
   "execution_count": null,
   "id": "eb14c0f9",
   "metadata": {
    "execution": {
     "iopub.execute_input": "2024-08-11T15:57:25.562040Z",
     "iopub.status.busy": "2024-08-11T15:57:25.561653Z",
     "iopub.status.idle": "2024-08-11T15:57:25.583715Z",
     "shell.execute_reply": "2024-08-11T15:57:25.582985Z"
    },
    "papermill": {
     "duration": 0.143183,
     "end_time": "2024-08-11T15:57:25.585686",
     "exception": false,
     "start_time": "2024-08-11T15:57:25.442503",
     "status": "completed"
    },
    "tags": []
   },
   "outputs": [],
   "source": [
    "t_test = []\n",
    "for i,j,k in val_dataloader:\n",
    "    for l in k.view(-1):\n",
    "        t_test.append(l.cpu())"
   ]
  },
  {
   "cell_type": "code",
   "execution_count": null,
   "id": "f396ed3c",
   "metadata": {
    "execution": {
     "iopub.execute_input": "2024-08-11T15:57:25.833339Z",
     "iopub.status.busy": "2024-08-11T15:57:25.832954Z",
     "iopub.status.idle": "2024-08-11T15:57:25.854710Z",
     "shell.execute_reply": "2024-08-11T15:57:25.853979Z"
    },
    "papermill": {
     "duration": 0.150439,
     "end_time": "2024-08-11T15:57:25.856713",
     "exception": false,
     "start_time": "2024-08-11T15:57:25.706274",
     "status": "completed"
    },
    "tags": []
   },
   "outputs": [],
   "source": [
    "t_test2 = []\n",
    "for i,j,k in test_dataloader:\n",
    "    for l in k.view(-1):\n",
    "        t_test2.append(l.cpu())"
   ]
  },
  {
   "cell_type": "code",
   "execution_count": null,
   "id": "4d5a8820",
   "metadata": {
    "execution": {
     "iopub.execute_input": "2024-08-11T15:57:26.100576Z",
     "iopub.status.busy": "2024-08-11T15:57:26.100209Z",
     "iopub.status.idle": "2024-08-11T15:57:26.108678Z",
     "shell.execute_reply": "2024-08-11T15:57:26.107963Z"
    },
    "papermill": {
     "duration": 0.133654,
     "end_time": "2024-08-11T15:57:26.110550",
     "exception": false,
     "start_time": "2024-08-11T15:57:25.976896",
     "status": "completed"
    },
    "tags": []
   },
   "outputs": [],
   "source": [
    "target_test = np.array(t_test)"
   ]
  },
  {
   "cell_type": "code",
   "execution_count": null,
   "id": "87f2b556",
   "metadata": {
    "execution": {
     "iopub.execute_input": "2024-08-11T15:57:26.353478Z",
     "iopub.status.busy": "2024-08-11T15:57:26.353112Z",
     "iopub.status.idle": "2024-08-11T15:57:26.360899Z",
     "shell.execute_reply": "2024-08-11T15:57:26.360049Z"
    },
    "papermill": {
     "duration": 0.131534,
     "end_time": "2024-08-11T15:57:26.362858",
     "exception": false,
     "start_time": "2024-08-11T15:57:26.231324",
     "status": "completed"
    },
    "tags": []
   },
   "outputs": [],
   "source": [
    "target_test2 = np.array(t_test2)"
   ]
  },
  {
   "cell_type": "code",
   "execution_count": null,
   "id": "c20f2b0b",
   "metadata": {
    "execution": {
     "iopub.execute_input": "2024-08-11T15:57:26.605673Z",
     "iopub.status.busy": "2024-08-11T15:57:26.605302Z",
     "iopub.status.idle": "2024-08-11T15:57:26.610566Z",
     "shell.execute_reply": "2024-08-11T15:57:26.609781Z"
    },
    "papermill": {
     "duration": 0.130021,
     "end_time": "2024-08-11T15:57:26.612415",
     "exception": false,
     "start_time": "2024-08-11T15:57:26.482394",
     "status": "completed"
    },
    "tags": []
   },
   "outputs": [],
   "source": [
    "true = df.scaler2.inverse_transform([target_test]).reshape(-1,1)\n",
    "prediction = df.scaler2.inverse_transform(pred)"
   ]
  },
  {
   "cell_type": "code",
   "execution_count": null,
   "id": "e5f8fa7d",
   "metadata": {
    "execution": {
     "iopub.execute_input": "2024-08-11T15:57:26.854993Z",
     "iopub.status.busy": "2024-08-11T15:57:26.854624Z",
     "iopub.status.idle": "2024-08-11T15:57:26.859744Z",
     "shell.execute_reply": "2024-08-11T15:57:26.858969Z"
    },
    "papermill": {
     "duration": 0.128604,
     "end_time": "2024-08-11T15:57:26.861542",
     "exception": false,
     "start_time": "2024-08-11T15:57:26.732938",
     "status": "completed"
    },
    "tags": []
   },
   "outputs": [],
   "source": [
    "true2 = df.scaler2.inverse_transform([target_test2]).reshape(-1,1)\n",
    "prediction2 = df.scaler2.inverse_transform(pred2)"
   ]
  },
  {
   "cell_type": "code",
   "execution_count": null,
   "id": "1d3fa48b",
   "metadata": {
    "execution": {
     "iopub.execute_input": "2024-08-11T15:57:27.104372Z",
     "iopub.status.busy": "2024-08-11T15:57:27.103989Z",
     "iopub.status.idle": "2024-08-11T15:57:27.558403Z",
     "shell.execute_reply": "2024-08-11T15:57:27.557542Z"
    },
    "papermill": {
     "duration": 0.578713,
     "end_time": "2024-08-11T15:57:27.560849",
     "exception": false,
     "start_time": "2024-08-11T15:57:26.982136",
     "status": "completed"
    },
    "tags": []
   },
   "outputs": [],
   "source": [
    "plot_data(val_date,true,prediction)"
   ]
  },
  {
   "cell_type": "code",
   "execution_count": null,
   "id": "1497adba",
   "metadata": {
    "execution": {
     "iopub.execute_input": "2024-08-11T15:57:27.803754Z",
     "iopub.status.busy": "2024-08-11T15:57:27.802689Z",
     "iopub.status.idle": "2024-08-11T15:57:28.327733Z",
     "shell.execute_reply": "2024-08-11T15:57:28.326887Z"
    },
    "papermill": {
     "duration": 0.64866,
     "end_time": "2024-08-11T15:57:28.330111",
     "exception": false,
     "start_time": "2024-08-11T15:57:27.681451",
     "status": "completed"
    },
    "tags": []
   },
   "outputs": [],
   "source": [
    "plot_data(test_date,true2,prediction2)"
   ]
  },
  {
   "cell_type": "code",
   "execution_count": null,
   "id": "1fc3d13f",
   "metadata": {
    "execution": {
     "iopub.execute_input": "2024-08-11T15:57:28.572618Z",
     "iopub.status.busy": "2024-08-11T15:57:28.571879Z",
     "iopub.status.idle": "2024-08-11T15:57:30.476971Z",
     "shell.execute_reply": "2024-08-11T15:57:30.476081Z"
    },
    "papermill": {
     "duration": 2.029027,
     "end_time": "2024-08-11T15:57:30.480243",
     "exception": false,
     "start_time": "2024-08-11T15:57:28.451216",
     "status": "completed"
    },
    "tags": []
   },
   "outputs": [],
   "source": [
    "btc_dec = pd.read_csv(btc_path)\n",
    "btc_jan = pd.read_csv(\"/kaggle/input/bitcoin-dataset-all/All_btc_final.csv\")\n",
    "plot_data(btc_dec['time'],btc_dec['close'],btc_dec['close'])\n",
    "btc_dec.shape"
   ]
  }
 ],
 "metadata": {
  "kaggle": {
   "accelerator": "gpu",
   "dataSources": [
    {
     "datasetId": 5215442,
     "sourceId": 8696617,
     "sourceType": "datasetVersion"
    },
    {
     "datasetId": 5237724,
     "sourceId": 8727247,
     "sourceType": "datasetVersion"
    },
    {
     "datasetId": 5442306,
     "sourceId": 9029694,
     "sourceType": "datasetVersion"
    },
    {
     "datasetId": 5442344,
     "sourceId": 9029766,
     "sourceType": "datasetVersion"
    },
    {
     "datasetId": 5509961,
     "sourceId": 9126513,
     "sourceType": "datasetVersion"
    },
    {
     "datasetId": 5509975,
     "sourceId": 9126536,
     "sourceType": "datasetVersion"
    },
    {
     "datasetId": 5514868,
     "sourceId": 9133525,
     "sourceType": "datasetVersion"
    }
   ],
   "dockerImageVersionId": 30684,
   "isGpuEnabled": true,
   "isInternetEnabled": true,
   "language": "python",
   "sourceType": "notebook"
  },
  "kernelspec": {
   "display_name": "Python 3",
   "language": "python",
   "name": "python3"
  },
  "language_info": {
   "codemirror_mode": {
    "name": "ipython",
    "version": 3
   },
   "file_extension": ".py",
   "mimetype": "text/x-python",
   "name": "python",
   "nbconvert_exporter": "python",
   "pygments_lexer": "ipython3",
   "version": "3.10.13"
  },
  "papermill": {
   "default_parameters": {},
   "duration": 398.441778,
   "end_time": "2024-08-11T15:57:33.854530",
   "environment_variables": {},
   "exception": null,
   "input_path": "__notebook__.ipynb",
   "output_path": "__notebook__.ipynb",
   "parameters": {},
   "start_time": "2024-08-11T15:50:55.412752",
   "version": "2.5.0"
  }
 },
 "nbformat": 4,
 "nbformat_minor": 5
}
