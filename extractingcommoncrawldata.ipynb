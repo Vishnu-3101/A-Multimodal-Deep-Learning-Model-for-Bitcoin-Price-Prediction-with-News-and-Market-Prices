{
 "cells": [
  {
   "cell_type": "code",
   "execution_count": 1,
   "id": "14187827",
   "metadata": {
    "execution": {
     "iopub.execute_input": "2024-05-21T05:52:52.262469Z",
     "iopub.status.busy": "2024-05-21T05:52:52.262026Z",
     "iopub.status.idle": "2024-05-21T05:53:05.736222Z",
     "shell.execute_reply": "2024-05-21T05:53:05.734948Z"
    },
    "papermill": {
     "duration": 13.482467,
     "end_time": "2024-05-21T05:53:05.738868",
     "exception": false,
     "start_time": "2024-05-21T05:52:52.256401",
     "status": "completed"
    },
    "tags": []
   },
   "outputs": [
    {
     "name": "stdout",
     "output_type": "stream",
     "text": [
      "Collecting warcio\r\n",
      "  Downloading warcio-1.7.4-py2.py3-none-any.whl.metadata (15 kB)\r\n",
      "Requirement already satisfied: six in /opt/conda/lib/python3.10/site-packages (from warcio) (1.16.0)\r\n",
      "Downloading warcio-1.7.4-py2.py3-none-any.whl (40 kB)\r\n",
      "\u001b[2K   \u001b[90m━━━━━━━━━━━━━━━━━━━━━━━━━━━━━━━━━━━━━━━━\u001b[0m \u001b[32m40.2/40.2 kB\u001b[0m \u001b[31m1.3 MB/s\u001b[0m eta \u001b[36m0:00:00\u001b[0m\r\n",
      "\u001b[?25hInstalling collected packages: warcio\r\n",
      "Successfully installed warcio-1.7.4\r\n"
     ]
    }
   ],
   "source": [
    "!pip install warcio"
   ]
  },
  {
   "cell_type": "code",
   "execution_count": 11,
   "id": "330f33e8",
   "metadata": {
    "execution": {
     "iopub.execute_input": "2024-05-21T05:53:05.900804Z",
     "iopub.status.busy": "2024-05-21T05:53:05.899922Z",
     "iopub.status.idle": "2024-05-21T08:08:16.251297Z",
     "shell.execute_reply": "2024-05-21T08:08:16.249620Z"
    },
    "papermill": {
     "duration": 8110.359332,
     "end_time": "2024-05-21T08:08:16.253937",
     "exception": false,
     "start_time": "2024-05-21T05:53:05.894605",
     "status": "completed"
    },
    "tags": []
   },
   "outputs": [
    {
     "name": "stdout",
     "output_type": "stream",
     "text": [
      "https://data.commoncrawl.org/crawl-data/CC-NEWS/2021/08/CC-NEWS-20210826230935-00109.warc.gz\n",
      "https://data.commoncrawl.org/crawl-data/CC-NEWS/2021/08/CC-NEWS-20210826130749-00099.warc.gzhttps://data.commoncrawl.org/crawl-data/CC-NEWS/2021/08/CC-NEWS-20210827130037-00119.warc.gz\n",
      "\n",
      "https://data.commoncrawl.org/crawl-data/CC-NEWS/2021/08/CC-NEWS-20210827234524-00129.warc.gz\n"
     ]
    },
    {
     "name": "stderr",
     "output_type": "stream",
     "text": [
      "44595it [11:03, 51.74it/s]/tmp/ipykernel_18/1608739096.py:12: MarkupResemblesLocatorWarning: The input looks more like a filename than markup. You may want to open this file and pass the filehandle into Beautiful Soup.\n",
      "  soup = BeautifulSoup(html_content, 'html.parser')\n",
      "57275it [12:28, 76.56it/s] \n"
     ]
    },
    {
     "name": "stdout",
     "output_type": "stream",
     "text": [
      "https://data.commoncrawl.org/crawl-data/CC-NEWS/2021/08/CC-NEWS-20210827003835-00110.warc.gz\n"
     ]
    },
    {
     "name": "stderr",
     "output_type": "stream",
     "text": [
      "59747it [13:33, 73.48it/s]\n"
     ]
    },
    {
     "name": "stdout",
     "output_type": "stream",
     "text": [
      "https://data.commoncrawl.org/crawl-data/CC-NEWS/2021/08/CC-NEWS-20210827135635-00120.warc.gz\n"
     ]
    },
    {
     "name": "stderr",
     "output_type": "stream",
     "text": [
      "60563it [14:03, 71.82it/s]\n"
     ]
    },
    {
     "name": "stdout",
     "output_type": "stream",
     "text": [
      "https://data.commoncrawl.org/crawl-data/CC-NEWS/2021/08/CC-NEWS-20210828014348-00130.warc.gz\n"
     ]
    },
    {
     "name": "stderr",
     "output_type": "stream",
     "text": [
      "59455it [14:37, 67.76it/s]\n",
      "2943it [00:33, 44.71it/s]"
     ]
    },
    {
     "name": "stdout",
     "output_type": "stream",
     "text": [
      "https://data.commoncrawl.org/crawl-data/CC-NEWS/2021/08/CC-NEWS-20210826140513-00100.warc.gz\n"
     ]
    },
    {
     "name": "stderr",
     "output_type": "stream",
     "text": [
      "61681it [13:16, 77.45it/s] \n"
     ]
    },
    {
     "name": "stdout",
     "output_type": "stream",
     "text": [
      "https://data.commoncrawl.org/crawl-data/CC-NEWS/2021/08/CC-NEWS-20210827022436-00111.warc.gz\n"
     ]
    },
    {
     "name": "stderr",
     "output_type": "stream",
     "text": [
      "65147it [14:11, 76.54it/s]\n"
     ]
    },
    {
     "name": "stdout",
     "output_type": "stream",
     "text": [
      "https://data.commoncrawl.org/crawl-data/CC-NEWS/2021/08/CC-NEWS-20210828040235-00131.warc.gz\n"
     ]
    },
    {
     "name": "stderr",
     "output_type": "stream",
     "text": [
      "60655it [14:52, 68.00it/s]\n"
     ]
    },
    {
     "name": "stdout",
     "output_type": "stream",
     "text": [
      "https://data.commoncrawl.org/crawl-data/CC-NEWS/2021/08/CC-NEWS-20210827145444-00121.warc.gz\n"
     ]
    },
    {
     "name": "stderr",
     "output_type": "stream",
     "text": [
      "58393it [14:51, 65.49it/s]\n"
     ]
    },
    {
     "name": "stdout",
     "output_type": "stream",
     "text": [
      "https://data.commoncrawl.org/crawl-data/CC-NEWS/2021/08/CC-NEWS-20210826145856-00101.warc.gz\n"
     ]
    },
    {
     "name": "stderr",
     "output_type": "stream",
     "text": [
      "59339it [13:41, 72.26it/s]\n"
     ]
    },
    {
     "name": "stdout",
     "output_type": "stream",
     "text": [
      "https://data.commoncrawl.org/crawl-data/CC-NEWS/2021/08/CC-NEWS-20210827040310-00112.warc.gz\n"
     ]
    },
    {
     "name": "stderr",
     "output_type": "stream",
     "text": [
      "56153it [12:44, 73.45it/s]\n"
     ]
    },
    {
     "name": "stdout",
     "output_type": "stream",
     "text": [
      "https://data.commoncrawl.org/crawl-data/CC-NEWS/2021/08/CC-NEWS-20210827154959-00122.warc.gz\n"
     ]
    },
    {
     "name": "stderr",
     "output_type": "stream",
     "text": [
      "63765it [14:32, 73.10it/s]\n"
     ]
    },
    {
     "name": "stdout",
     "output_type": "stream",
     "text": [
      "https://data.commoncrawl.org/crawl-data/CC-NEWS/2021/08/CC-NEWS-20210828055836-00132.warc.gz\n"
     ]
    },
    {
     "name": "stderr",
     "output_type": "stream",
     "text": [
      "60455it [14:50, 67.88it/s]\n",
      "20411it [04:53, 32.03it/s]"
     ]
    },
    {
     "name": "stdout",
     "output_type": "stream",
     "text": [
      "https://data.commoncrawl.org/crawl-data/CC-NEWS/2021/08/CC-NEWS-20210826155523-00102.warc.gz\n"
     ]
    },
    {
     "name": "stderr",
     "output_type": "stream",
     "text": [
      "60051it [12:33, 79.69it/s]\n"
     ]
    },
    {
     "name": "stdout",
     "output_type": "stream",
     "text": [
      "https://data.commoncrawl.org/crawl-data/CC-NEWS/2021/08/CC-NEWS-20210827164448-00123.warc.gz"
     ]
    },
    {
     "name": "stderr",
     "output_type": "stream",
     "text": [
      "54075it [14:17, 81.03it/s]"
     ]
    },
    {
     "name": "stdout",
     "output_type": "stream",
     "text": [
      "\n"
     ]
    },
    {
     "name": "stderr",
     "output_type": "stream",
     "text": [
      "62241it [16:42, 62.10it/s]\n"
     ]
    },
    {
     "name": "stdout",
     "output_type": "stream",
     "text": [
      "https://data.commoncrawl.org/crawl-data/CC-NEWS/2021/08/CC-NEWS-20210827053859-00113.warc.gz\n"
     ]
    },
    {
     "name": "stderr",
     "output_type": "stream",
     "text": [
      "57800it [13:05, 73.59it/s]\n"
     ]
    },
    {
     "name": "stdout",
     "output_type": "stream",
     "text": [
      "https://data.commoncrawl.org/crawl-data/CC-NEWS/2021/08/CC-NEWS-20210826165307-00103.warc.gz\n"
     ]
    },
    {
     "name": "stderr",
     "output_type": "stream",
     "text": [
      "64688it [16:25, 65.62it/s]\n"
     ]
    },
    {
     "name": "stdout",
     "output_type": "stream",
     "text": [
      "https://data.commoncrawl.org/crawl-data/CC-NEWS/2021/08/CC-NEWS-20210828074844-00133.warc.gz\n"
     ]
    },
    {
     "name": "stderr",
     "output_type": "stream",
     "text": [
      "60531it [13:50, 72.90it/s]\n",
      "33929it [08:21, 92.11it/s]"
     ]
    },
    {
     "name": "stdout",
     "output_type": "stream",
     "text": [
      "https://data.commoncrawl.org/crawl-data/CC-NEWS/2021/08/CC-NEWS-20210827174849-00124.warc.gz\n"
     ]
    },
    {
     "name": "stderr",
     "output_type": "stream",
     "text": [
      "57075it [12:04, 78.79it/s] \n"
     ]
    },
    {
     "name": "stdout",
     "output_type": "stream",
     "text": [
      "https://data.commoncrawl.org/crawl-data/CC-NEWS/2021/08/CC-NEWS-20210826174645-00104.warc.gz\n"
     ]
    },
    {
     "name": "stderr",
     "output_type": "stream",
     "text": [
      "65100it [15:59, 67.82it/s]\n"
     ]
    },
    {
     "name": "stdout",
     "output_type": "stream",
     "text": [
      "https://data.commoncrawl.org/crawl-data/CC-NEWS/2021/08/CC-NEWS-20210827071300-00114.warc.gz\n"
     ]
    },
    {
     "name": "stderr",
     "output_type": "stream",
     "text": [
      "64523it [14:53, 72.19it/s]\n"
     ]
    },
    {
     "name": "stdout",
     "output_type": "stream",
     "text": [
      "https://data.commoncrawl.org/crawl-data/CC-NEWS/2021/08/CC-NEWS-20210828093106-00134.warc.gz\n"
     ]
    },
    {
     "name": "stderr",
     "output_type": "stream",
     "text": [
      "52783it [10:48, 81.40it/s]\n",
      "17270it [04:16, 46.03it/s]"
     ]
    },
    {
     "name": "stdout",
     "output_type": "stream",
     "text": [
      "https://data.commoncrawl.org/crawl-data/CC-NEWS/2021/08/CC-NEWS-20210827184437-00125.warc.gz\n"
     ]
    },
    {
     "name": "stderr",
     "output_type": "stream",
     "text": [
      "24054it [05:23, 74.29it/s]\n"
     ]
    },
    {
     "name": "stdout",
     "output_type": "stream",
     "text": [
      "https://data.commoncrawl.org/crawl-data/CC-NEWS/2021/08/CC-NEWS-20210828172346-00139.warc.gz\n"
     ]
    },
    {
     "name": "stderr",
     "output_type": "stream",
     "text": [
      "59367it [13:26, 73.60it/s]\n"
     ]
    },
    {
     "name": "stdout",
     "output_type": "stream",
     "text": [
      "https://data.commoncrawl.org/crawl-data/CC-NEWS/2021/08/CC-NEWS-20210826184559-00105.warc.gz\n"
     ]
    },
    {
     "name": "stderr",
     "output_type": "stream",
     "text": [
      "65073it [14:25, 75.17it/s]\n"
     ]
    },
    {
     "name": "stdout",
     "output_type": "stream",
     "text": [
      "https://data.commoncrawl.org/crawl-data/CC-NEWS/2021/08/CC-NEWS-20210827083532-00115.warc.gz\n"
     ]
    },
    {
     "name": "stderr",
     "output_type": "stream",
     "text": [
      "58977it [11:27, 85.76it/s]\n"
     ]
    },
    {
     "name": "stdout",
     "output_type": "stream",
     "text": [
      "https://data.commoncrawl.org/crawl-data/CC-NEWS/2021/08/CC-NEWS-20210827194944-00126.warc.gz\n"
     ]
    },
    {
     "name": "stderr",
     "output_type": "stream",
     "text": [
      "8953it [01:51, 43.65it/s]\n"
     ]
    },
    {
     "name": "stdout",
     "output_type": "stream",
     "text": [
      "https://data.commoncrawl.org/crawl-data/CC-NEWS/2021/08/CC-NEWS-20210828190424-00140.warc.gz"
     ]
    },
    {
     "name": "stderr",
     "output_type": "stream",
     "text": [
      "36875it [08:45, 64.68it/s]"
     ]
    },
    {
     "name": "stdout",
     "output_type": "stream",
     "text": [
      "\n"
     ]
    },
    {
     "name": "stderr",
     "output_type": "stream",
     "text": [
      "52422it [11:42, 74.66it/s]\n"
     ]
    },
    {
     "name": "stdout",
     "output_type": "stream",
     "text": [
      "https://data.commoncrawl.org/crawl-data/CC-NEWS/2021/08/CC-NEWS-20210826194238-00106.warc.gz\n"
     ]
    },
    {
     "name": "stderr",
     "output_type": "stream",
     "text": [
      "55889it [10:58, 84.86it/s] \n"
     ]
    },
    {
     "name": "stdout",
     "output_type": "stream",
     "text": [
      "https://data.commoncrawl.org/crawl-data/CC-NEWS/2021/08/CC-NEWS-20210827205725-00127.warc.gz\n"
     ]
    },
    {
     "name": "stderr",
     "output_type": "stream",
     "text": [
      "63747it [14:50, 71.60it/s] \n"
     ]
    },
    {
     "name": "stdout",
     "output_type": "stream",
     "text": [
      "https://data.commoncrawl.org/crawl-data/CC-NEWS/2021/08/CC-NEWS-20210827094837-00116.warc.gz\n"
     ]
    },
    {
     "name": "stderr",
     "output_type": "stream",
     "text": [
      "54289it [09:58, 90.65it/s]\n"
     ]
    },
    {
     "name": "stdout",
     "output_type": "stream",
     "text": [
      "https://data.commoncrawl.org/crawl-data/CC-NEWS/2021/08/CC-NEWS-20210828203711-00141.warc.gz\n"
     ]
    },
    {
     "name": "stderr",
     "output_type": "stream",
     "text": [
      "55131it [11:31, 79.78it/s]\n"
     ]
    },
    {
     "name": "stdout",
     "output_type": "stream",
     "text": [
      "https://data.commoncrawl.org/crawl-data/CC-NEWS/2021/08/CC-NEWS-20210826204703-00107.warc.gz\n"
     ]
    },
    {
     "name": "stderr",
     "output_type": "stream",
     "text": [
      "55727it [10:33, 88.03it/s]\n"
     ]
    },
    {
     "name": "stdout",
     "output_type": "stream",
     "text": [
      "https://data.commoncrawl.org/crawl-data/CC-NEWS/2021/08/CC-NEWS-20210827221551-00128.warc.gz\n"
     ]
    },
    {
     "name": "stderr",
     "output_type": "stream",
     "text": [
      "8551it [02:28, 36.31it/s]\n"
     ]
    },
    {
     "name": "stdout",
     "output_type": "stream",
     "text": [
      "https://data.commoncrawl.org/crawl-data/CC-NEWS/2021/08/CC-NEWS-20210828222528-00142.warc.gz\n"
     ]
    },
    {
     "name": "stderr",
     "output_type": "stream",
     "text": [
      "62739it [14:04, 74.32it/s]\n"
     ]
    },
    {
     "name": "stdout",
     "output_type": "stream",
     "text": [
      "https://data.commoncrawl.org/crawl-data/CC-NEWS/2021/08/CC-NEWS-20210827105424-00117.warc.gz\n"
     ]
    },
    {
     "name": "stderr",
     "output_type": "stream",
     "text": [
      "54783it [12:35, 72.52it/s]\n"
     ]
    },
    {
     "name": "stdout",
     "output_type": "stream",
     "text": [
      "https://data.commoncrawl.org/crawl-data/CC-NEWS/2021/08/CC-NEWS-20210826215842-00108.warc.gz\n"
     ]
    },
    {
     "name": "stderr",
     "output_type": "stream",
     "text": [
      "37376it [08:26, 73.79it/s]\n",
      "58195it [12:27, 77.83it/s]\n",
      "61682it [11:18, 90.86it/s] \n"
     ]
    },
    {
     "name": "stdout",
     "output_type": "stream",
     "text": [
      "https://data.commoncrawl.org/crawl-data/CC-NEWS/2021/08/CC-NEWS-20210827115539-00118.warc.gz\n"
     ]
    },
    {
     "name": "stderr",
     "output_type": "stream",
     "text": [
      "54703it [08:34, 106.35it/s]\n",
      "60429it [08:12, 122.58it/s]\n"
     ]
    }
   ],
   "source": [
    "from warcio.archiveiterator import ArchiveIterator\n",
    "from bs4 import BeautifulSoup\n",
    "import re\n",
    "import os\n",
    "import requests\n",
    "from tqdm import tqdm\n",
    "import pandas as pd\n",
    "from multiprocessing import Pool\n",
    "import time\n",
    "# Function to extract relevant content from HTML page\n",
    "def extract_bitcoin_content(html_content):\n",
    "    soup = BeautifulSoup(html_content, 'html.parser')\n",
    "    paragraphs = soup.find_all('p')\n",
    "\n",
    "    bitcoin_related_paragraphs = []\n",
    "    for paragraph in paragraphs:\n",
    "        if re.search(r'\\bbitcoin\\b', paragraph.get_text(), re.IGNORECASE):\n",
    "            bitcoin_related_paragraphs.append(paragraph.get_text())\n",
    "\n",
    "    return bitcoin_related_paragraphs\n",
    "\n",
    "\n",
    "# Function to process Common Crawl data and extract Bitcoin-related content\n",
    "def process_common_crawl_data(warc_file_path, news_data, output):\n",
    "    global i\n",
    "    response = requests.get(warc_file_path, stream=True)\n",
    "    for record in tqdm(ArchiveIterator(response.raw, arc2warc=True)):\n",
    "        if record.rec_type == 'response':\n",
    "            payload = record.content_stream().read()\n",
    "            if record.rec_headers.get_header('WARC-Target-URI').endswith('.html') or record.rec_headers.get_header('WARC-Target-URI').endswith('.htm'):\n",
    "                try:\n",
    "                    html_content = payload.decode('utf-8')\n",
    "                    bitcoin_paragraphs = extract_bitcoin_content(html_content)\n",
    "                    if bitcoin_paragraphs:\n",
    "                        target_uri = record.rec_headers.get_header('WARC-Target-URI')\n",
    "                        publication_date = record.rec_headers.get_header('WARC-Date')\n",
    "#                         print(\"Time published:\", publication_date)\n",
    "#                         print(\"Text:\")\n",
    "                        for paragraph in bitcoin_paragraphs:\n",
    "                            new_df = pd.DataFrame({\"time\": [publication_date] , \"Text\": [paragraph], \"Link\": [target_uri]})\n",
    "                            news_data = pd.concat([news_data, new_df])\n",
    "                            news_data.to_csv(output)\n",
    "#                             print(paragraph)\n",
    "#                         print(\"---------------------------------------\")\n",
    "                except UnicodeDecodeError:\n",
    "                    pass\n",
    "\n",
    "\n",
    "def get_data(context):\n",
    "    news_data = pd.DataFrame(columns = [\"time\",\"Text\",\"Link\"])\n",
    "    warc_file_path = os.path.join('https://data.commoncrawl.org/',context)\n",
    "    print(warc_file_path)\n",
    "    output = f\"/kaggle/working/news_data2021_aug_{int(time.time())}_{str(time.time() - int(time.time()))[2:]}.csv\"\n",
    "    process_common_crawl_data(warc_file_path, news_data, output)\n",
    "    \n",
    "    return output\n",
    "\n",
    "if __name__=='__main__':\n",
    "    file_path = '/kaggle/input/commoncrawldata/CommonCrawlData/2021Data/warc.paths (7)'\n",
    "    with open(file_path, 'r', encoding='utf-8') as file:\n",
    "        context = file.read()\n",
    "    context = context.split(\"\\n\")\n",
    "    with Pool() as pool:\n",
    "        result = pool.imap(get_data,context[440:490],chunksize=10)\n",
    "        pool.close()\n",
    "        pool.join()"
   ]
  },
  {
   "cell_type": "code",
   "execution_count": null,
   "id": "0f22c0d6",
   "metadata": {
    "papermill": {
     "duration": 9.924926,
     "end_time": "2024-05-21T08:08:56.198588",
     "exception": false,
     "start_time": "2024-05-21T08:08:46.273662",
     "status": "completed"
    },
    "tags": []
   },
   "outputs": [],
   "source": []
  }
 ],
 "metadata": {
  "kaggle": {
   "accelerator": "none",
   "dataSources": [
    {
     "datasetId": 4659132,
     "sourceId": 7927493,
     "sourceType": "datasetVersion"
    }
   ],
   "dockerImageVersionId": 30673,
   "isGpuEnabled": false,
   "isInternetEnabled": true,
   "language": "python",
   "sourceType": "notebook"
  },
  "kernelspec": {
   "display_name": "Python 3",
   "language": "python",
   "name": "python3"
  },
  "language_info": {
   "codemirror_mode": {
    "name": "ipython",
    "version": 3
   },
   "file_extension": ".py",
   "mimetype": "text/x-python",
   "name": "python",
   "nbconvert_exporter": "python",
   "pygments_lexer": "ipython3",
   "version": "3.10.13"
  },
  "papermill": {
   "default_parameters": {},
   "duration": 8177.298848,
   "end_time": "2024-05-21T08:09:06.870727",
   "environment_variables": {},
   "exception": null,
   "input_path": "__notebook__.ipynb",
   "output_path": "__notebook__.ipynb",
   "parameters": {},
   "start_time": "2024-05-21T05:52:49.571879",
   "version": "2.5.0"
  }
 },
 "nbformat": 4,
 "nbformat_minor": 5
}
